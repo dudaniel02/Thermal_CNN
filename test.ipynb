{
 "cells": [
  {
   "cell_type": "markdown",
   "id": "5d416956",
   "metadata": {},
   "source": [
    "# Hanna Hammock Fire‐Segmentation Pipeline in Notebook\n",
    "\n",
    "This notebook runs the full Makefile pipeline—prep, train, eval, analysis, report—on your server.\n",
    "\n",
    "---\n",
    "\n",
    "## 1. Install dependencies  \n",
    "\n",
    "\n",
    "!pip install -r requirements.txt\n",
    "\n"
   ]
  },
  {
   "cell_type": "code",
   "execution_count": null,
   "id": "f2185165",
   "metadata": {},
   "outputs": [
    {
     "name": "stdout",
     "output_type": "stream",
     "text": [
      "make: *** No rule to make target 'all'.  Stop.\n"
     ]
    }
   ],
   "source": [
    "cd Thermal_CNN\n",
    "make all"
   ]
  }
 ],
 "metadata": {
  "kernelspec": {
   "display_name": "Python 3 (ipykernel)",
   "language": "python",
   "name": "python3"
  },
  "language_info": {
   "codemirror_mode": {
    "name": "ipython",
    "version": 3
   },
   "file_extension": ".py",
   "mimetype": "text/x-python",
   "name": "python",
   "nbconvert_exporter": "python",
   "pygments_lexer": "ipython3",
   "version": "3.11.6"
  }
 },
 "nbformat": 4,
 "nbformat_minor": 5
}
