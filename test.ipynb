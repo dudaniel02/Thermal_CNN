{
 "cells": [
  {
   "cell_type": "markdown",
   "id": "5d416956",
   "metadata": {},
   "source": [
    "# Hanna Hammock Fire‐Segmentation Pipeline in Notebook\n",
    "\n",
    "This notebook runs the full Makefile pipeline—prep, train, eval, analysis, report—on your server.\n",
    "\n",
    "---\n",
    "\n",
    "## 1. Install dependencies  \n",
    "\n",
    "\n",
    "!pip install -r requirements.txt\n",
    "\n"
   ]
  },
  {
   "cell_type": "code",
   "execution_count": 19,
   "id": "8fb640cb",
   "metadata": {},
   "outputs": [
    {
     "name": "stdout",
     "output_type": "stream",
     "text": [
      "[Errno 2] No such file or directory: 'Thermal_CNN'\n",
      "/home/danielhb/Thermal/Thermal_CNN\n"
     ]
    }
   ],
   "source": [
    "%cd Thermal_CNN\n"
   ]
  },
  {
   "cell_type": "code",
   "execution_count": 20,
   "id": "f2185165",
   "metadata": {},
   "outputs": [
    {
     "name": "stdout",
     "output_type": "stream",
     "text": [
      "python data_prep.py \\\n",
      "  --input_dirs \"NADIRPlots/HannaHammock\"/plot*/duringburn \\\n",
      "  --output_dir masks \\\n",
      "  --threshold 50.0 \\\n",
      "  --workers 16\n",
      "Processed 794 files into 'masks'.\n",
      "python train.py \\\n",
      "  --data_dirs \"NADIRPlots/HannaHammock\"/plot*/duringburn \\\n",
      "  --mask_dir masks \\\n",
      "  --runs_dir runs \\\n",
      "  --ckpt_dir checkpoints \\\n",
      "  --epochs 200 \\\n",
      "  --batch_size 16\n",
      "Traceback (most recent call last):\n",
      "  File \"/home/danielhb/Thermal/Thermal_CNN/train.py\", line 12, in <module>\n",
      "    from data_prep import ThermalDataset\n",
      "ImportError: cannot import name 'ThermalDataset' from 'data_prep' (/home/danielhb/Thermal/Thermal_CNN/data_prep.py)\n",
      "make: *** [Makefile:15: train] Error 1\n"
     ]
    }
   ],
   "source": [
    "!make all\n"
   ]
  }
 ],
 "metadata": {
  "kernelspec": {
   "display_name": "Python 3 (ipykernel)",
   "language": "python",
   "name": "python3"
  },
  "language_info": {
   "codemirror_mode": {
    "name": "ipython",
    "version": 3
   },
   "file_extension": ".py",
   "mimetype": "text/x-python",
   "name": "python",
   "nbconvert_exporter": "python",
   "pygments_lexer": "ipython3",
   "version": "3.11.6"
  }
 },
 "nbformat": 4,
 "nbformat_minor": 5
}
